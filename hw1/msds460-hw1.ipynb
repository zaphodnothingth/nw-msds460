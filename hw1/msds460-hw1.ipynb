{
 "cells": [
  {
   "cell_type": "code",
   "execution_count": 1,
   "id": "3ee644e8",
   "metadata": {},
   "outputs": [],
   "source": [
    "# import pulp\n",
    "from pulp import LpVariable, LpProblem, LpMaximize, LpStatus, value, LpMinimize\n"
   ]
  },
  {
   "cell_type": "markdown",
   "id": "af208bab",
   "metadata": {},
   "source": [
    "# Question 1\n",
    "\n",
    "SteelCo manufactures three types of steel at two different steel mills.  During a given month, Mill 1 has 200 hours of blast furnace time available, whereas Mill 2 has 300 hours.  Because of differences in the furnaces at each mill, the time and cost to produce a ton of steel differs for each mill and are shown in the following table.  Each month, SteelCo must manufacture a total of at least 400 tons of Steel 1, 500 tons of Steel 2, and 300 tons of Steel 3 to meet demand; however, the total amount of Steel 2 manufactured should not exceed the combined amount of Steel 1 and Steel 3.  Also, in order to maintain a roughly uniform usage of the two mills, management’s policy is that the percentage of available blast furnace capacity (time) used at each mill should be the same.  Clearly formulate a linear program (LP) to minimize the cost of manufacturing the desired steel."
   ]
  },
  {
   "cell_type": "code",
   "execution_count": 2,
   "id": "a87178d1",
   "metadata": {},
   "outputs": [],
   "source": [
    "# define variables\n",
    "\n",
    "s1m1 = LpVariable(\"steel1Mill1\", 0, None) \n",
    "s1m2 = LpVariable(\"steel1Mill2\", 0, None) \n",
    "s2m1 = LpVariable(\"steel2Mill1\", 0, None) \n",
    "s2m2 = LpVariable(\"steel2Mill2\", 0, None) \n",
    "s3m1 = LpVariable(\"steel3Mill1\", 0, None) \n",
    "s3m2 = LpVariable(\"steel3Mill2\", 0, None) \n",
    "bfm1 = LpVariable(\"blastFurnaceMill1capacity\", 0, 200)  # Mill 1 has 200 hours of blast furnace time available\n",
    "bfm2 = LpVariable(\"blastFurnaceMill2capacity\", 0, 300)  # Mill 2 has 300 hours"
   ]
  },
  {
   "cell_type": "code",
   "execution_count": 3,
   "id": "aa4f55d9",
   "metadata": {},
   "outputs": [],
   "source": [
    "# defines the problem\n",
    "prob = LpProblem(\"problem\", LpMinimize)"
   ]
  },
  {
   "cell_type": "code",
   "execution_count": 4,
   "id": "320bb60b",
   "metadata": {},
   "outputs": [],
   "source": [
    "# define constraints - comments on end provide context\n",
    "prob += s1m1 + s1m2  == 400  # SteelCo must manufacture a total of at least 400 tons of Steel 1\n",
    "prob += s2m1 + s2m2  == 500  # 500 tons of Steel 2\n",
    "prob += s3m1 + s3m2  == 300  # 300 tons of Steel 3\n",
    "prob += s2m1 + s2m2  <= s1m1 + s1m2  + s3m1 + s3m2  # total amount of Steel 2 manufactured should not exceed the combined amount of Steel 1 and Steel 3\n",
    "prob += (s1m1 + s2m1 + s3m1)/200 == (s1m2 + s2m2 + s3m2)/300  # the percentage of available blast furnace capacity (time) used at each mill should be the same\n",
    "prob += (20/60)*s1m1 + (22/60)*s2m1 + (28/60)*s3m1 <= 200  # values from table\n",
    "prob += (24/60)*s1m2 + (18/60)*s2m2 + (30/60)*s3m2 <= 300  # values from table"
   ]
  },
  {
   "cell_type": "code",
   "execution_count": 5,
   "id": "cf8f43d3",
   "metadata": {},
   "outputs": [],
   "source": [
    "# define objective function\n",
    "prob += 10*s1m1 + 11*s2m1 + 14*s3m1 + 12*s1m2 + 9*s2m2 + 10*s3m2"
   ]
  },
  {
   "cell_type": "code",
   "execution_count": 6,
   "id": "9ad35e65",
   "metadata": {},
   "outputs": [
    {
     "name": "stdout",
     "output_type": "stream",
     "text": [
      "Problem\n",
      "status=Optimal\n",
      "steel1Mill1 = 400.0\n",
      "steel1Mill2 = 0.0\n",
      "steel2Mill1 = 80.0\n",
      "steel2Mill2 = 420.0\n",
      "steel3Mill1 = 0.0\n",
      "steel3Mill2 = 300.0\n",
      "Objective = 11660.0\n",
      "\n"
     ]
    }
   ],
   "source": [
    "# solve the problem\n",
    "status = prob.solve()\n",
    "print(f\"Problem\")\n",
    "print(f\"status={LpStatus[status]}\")\n",
    "\n",
    "# print the results\n",
    "for variable in prob.variables():\n",
    "    print(f\"{variable.name} = {variable.varValue}\")\n",
    "    \n",
    "print(f\"Objective = {value(prob.objective)}\")\n",
    "print(f\"\")"
   ]
  },
  {
   "cell_type": "markdown",
   "id": "f4281e15",
   "metadata": {},
   "source": [
    "Steel mill 1 should produce 400 tons of steel1, 80 of steel2, and 0 of steel3\n",
    "mill 2 should produce 0 tons of steel1, 420 of steel2 and all 300 tons of steel 3\n",
    "\n",
    "this will result in an optimally minimized furnace time of 11,660hrs"
   ]
  },
  {
   "cell_type": "markdown",
   "id": "0f055b8f",
   "metadata": {},
   "source": [
    "# Question 2\n",
    "\n",
    "Consider the following linear program:            \n",
    "\n",
    "Max Z = -4x1 + 2x2  \n",
    "Subject To  \n",
    "(a) -2x1 + 2x2 ≤ 7  \n",
    "(b) x1 ≥ 2  \n",
    "(c) x1 - 4x2 ≤ 0  \n",
    "(d) 2x1 + 2x2 ≥ 10  \n",
    "(e) x1, x2 ≥ 0  \n",
    "\n",
    "\n",
    "Part A:  Write the LP in standard equality form."
   ]
  },
  {
   "cell_type": "raw",
   "id": "67fba29a",
   "metadata": {},
   "source": [
    "# objective function is to be minimized, so we convert the objective:\n",
    "Z = 4 * x1 - 2 * x2"
   ]
  },
  {
   "cell_type": "raw",
   "id": "6800a404",
   "metadata": {},
   "source": [
    "# constraints should be lower bounds\n",
    "(a) is already lower\n",
    "-2x1 + 2x2 ≤ 7  \n",
    "(b) needs signs flipped:\n",
    "-x1 <= -2\n",
    "(c) is good\n",
    "(d) needs signs flipped\n",
    "-2x1 - 2x2 <= -10\n",
    "(e) is a positivity constraint for both variables, so they're fine & help with the positivity constraint requirement. x1 is also overcome by constraint (b)\n",
    "x2 ≥ 0\n"
   ]
  },
  {
   "cell_type": "raw",
   "id": "2d892fe9",
   "metadata": {},
   "source": [
    "# Equalities should be spit into inequalities\n",
    "none exit, no work needed"
   ]
  },
  {
   "cell_type": "raw",
   "id": "cac8f904",
   "metadata": {},
   "source": [
    "# all variables need positivity constraints, as mentioned above - already set"
   ]
  },
  {
   "cell_type": "markdown",
   "id": "ba140a6b",
   "metadata": {},
   "source": [
    "### Part B:  Solve the original LP graphically (to scale).  Clearly identify the feasible region and, if one or more exist, the optimal solution(s) (provide exact values for x1, x2, and Z)."
   ]
  },
  {
   "cell_type": "code",
   "execution_count": 7,
   "id": "f7385700",
   "metadata": {},
   "outputs": [
    {
     "name": "stdout",
     "output_type": "stream",
     "text": [
      "value of x: [5.49374687] value of y: [1.99374687] value of z: [3.01250625]\n"
     ]
    },
    {
     "data": {
      "image/png": "[encoded data removed]",
      "text/plain": [
       "<Figure size 432x288 with 1 Axes>"
      ]
     },
     "metadata": {
      "needs_background": "light"
     },
     "output_type": "display_data"
    }
   ],
   "source": [
    "#### resource: https://benalexkeen.com/linear-programming-with-python-and-pulp-part-1/\n",
    "import numpy as np\n",
    "import matplotlib.pyplot as plt\n",
    "%matplotlib inline\n",
    "\n",
    "# Construct lines\n",
    "# (e)x2 >= 0   # need to define x first\n",
    "x = np.linspace(2, 20, 2000)\n",
    "\n",
    "# (a) -2x1 + 2x2 ≤ 7\n",
    "y1 = x-3.5\n",
    "\n",
    "# (b) x1 ≥ 2  - adjust definition from (e)\n",
    "y2 = (x*0) + 2\n",
    "\n",
    "# (c) x1 - 4x2 ≤ 0  \n",
    "y3 = .25*x\n",
    "\n",
    "# (d) 2x1 + 2x2 ≥ 10 \n",
    "y4 = 5-x\n",
    "\n",
    "# (e) second part - made irrelevant by (b)\n",
    "\n",
    "# objective: Max Z = -4x1 + 2x2\n",
    "y5 = .5 * x\n",
    "\n",
    "\n",
    "# Make plot\n",
    "plt.plot(x, y1, label=r'$2x1 + 2x2\\leq7$')  # (a)\n",
    "plt.plot(x, y2, label=r'$x1\\geq2$') # (b)\n",
    "plt.plot(x, y3, label=r'$x1 - 4x2\\leq 0$')  # (c)\n",
    "plt.plot(x, y4, label=r'$2x1 + 2x2\\geq 10$')  # (d)\n",
    "plt.plot(x, y5, label=r'$y\\leq 2$', linestyle='dashed')  # (e)\n",
    "plt.xlim((0, 16))\n",
    "plt.ylim((0, 11))\n",
    "plt.xlabel(r'$x$')\n",
    "plt.ylabel(r'$y$')\n",
    "\n",
    "\n",
    "idx = np.argwhere(np.diff(np.sign(y1 - y2))).flatten()\n",
    "print('value of x:', x[idx], 'value of y:', y1[idx], 'value of z:', (-4*y1[idx] + 2*x[idx]))\n",
    "# max in direction of objective is where y1 meets y2:\n",
    "plt.plot(x[idx], y1[idx], 'ro')\n",
    "\n",
    "# Fill feasible region - can't get this to leave out that bottom triangle....\n",
    "# y6 = np.maximum(y1, y2)\n",
    "# y7 = np.maximum(y4, y1)\n",
    "# plt.fill_between(x, y6, y7, where=y6>y7, color='grey', alpha=0.5)\n",
    "# plt.legend(bbox_to_anchor=(1.05, 1), loc=2, borderaxespad=0.)\n",
    "\n",
    "x = [3,4,4.5,5.5]\n",
    "y = [2,1,1.1,2]\n",
    "\n",
    "plt.fill(x, y, color='grey', alpha=0.5)\n",
    "plt.show()\n",
    "\n"
   ]
  },
  {
   "cell_type": "markdown",
   "id": "ec941899",
   "metadata": {},
   "source": [
    "### validate"
   ]
  },
  {
   "cell_type": "code",
   "execution_count": 8,
   "id": "e8f4d359",
   "metadata": {},
   "outputs": [],
   "source": [
    "# define variables\n",
    "\n",
    "x1 = LpVariable(\"x1\", 2, 50) \n",
    "x2 = LpVariable(\"x2\", 0, 30) "
   ]
  },
  {
   "cell_type": "code",
   "execution_count": 9,
   "id": "7f95d650",
   "metadata": {},
   "outputs": [],
   "source": [
    "# defines the problem\n",
    "prob2 = LpProblem(\"problem\", LpMaximize)"
   ]
  },
  {
   "cell_type": "code",
   "execution_count": 10,
   "id": "21a332b6",
   "metadata": {},
   "outputs": [],
   "source": [
    "# define constraints \n",
    "prob2 += -2*x1 + 2*x2 <= 7  \n",
    "prob2 += x1 >= 2  \n",
    "prob2 += x1 - 4*x2 <= 0   \n",
    "prob2 += 2*x1 + 2*x2 >= 10   \n",
    "prob2 += x2 >= 0   \n"
   ]
  },
  {
   "cell_type": "code",
   "execution_count": 11,
   "id": "d60e744d",
   "metadata": {},
   "outputs": [],
   "source": [
    "# define objective function\n",
    "prob2 += -4*x1 + 2*x2  "
   ]
  },
  {
   "cell_type": "code",
   "execution_count": 14,
   "id": "83acdfe0",
   "metadata": {},
   "outputs": [
    {
     "name": "stdout",
     "output_type": "stream",
     "text": [
      "Problem\n",
      "status=Optimal\n",
      "x1 = 2.0\n",
      "x2 = 5.5\n",
      "Objective = 3.0\n",
      "\n"
     ]
    }
   ],
   "source": [
    "# solve the problem\n",
    "status2 = prob2.solve()\n",
    "print(f\"Problem\")\n",
    "print(f\"status={LpStatus[status2]}\")\n",
    "\n",
    "# print the results\n",
    "for variable in prob2.variables():\n",
    "    print(f\"{variable.name} = {variable.varValue}\")\n",
    "    \n",
    "print(f\"Objective = {value(prob2.objective)}\")\n",
    "print(f\"\")"
   ]
  },
  {
   "cell_type": "markdown",
   "id": "098079bd",
   "metadata": {},
   "source": [
    "\n",
    "# Question 3\n",
    "\n",
    "At the beginning of month 1, Finco has $400 in cash.  At the beginning of months 1, 2, 3, and 4, Finco receives certain revenues, after which it pays bills (see Table 2 below).  Any money left over may be invested for one month at the interest rate of 0.1% per month; for two months at 0.5% per month; for three months at 1% per month; or for four months at 2% per month.  Use linear programming to determine an investment strategy that maximizes cash on hand at the beginning of month 5.  Formulate an LP to maximize Finco’s profit."
   ]
  },
  {
   "cell_type": "code",
   "execution_count": 15,
   "id": "9c1cf2b2",
   "metadata": {},
   "outputs": [],
   "source": [
    "########### problem definitions\n",
    "\n",
    "# 1 month `a` = 0.1% per month\n",
    "# 2 month `b` = 0.5% per month\n",
    "# 3 month `c` = 1.0% per month \n",
    "# 4 month `d` = 2.0% per month\n",
    "# amounts invested month 1: a1, b1, c1, d1\n",
    "# amounts invested month 1: a2, b2, c2\n",
    "# amounts invested month 1: a3, b3\n",
    "# amounts invested month 1: a4"
   ]
  },
  {
   "cell_type": "code",
   "execution_count": 16,
   "id": "b2275125",
   "metadata": {},
   "outputs": [],
   "source": [
    "# define variables\n",
    "a1 = LpVariable(\"inventmentAmonth1\", 0, None)\n",
    "b1 = LpVariable(\"inventmentBmonth1\", 0, None)\n",
    "c1 = LpVariable(\"inventmentCmonth1\", 0, None)\n",
    "d1 = LpVariable(\"inventmentDmonth1\", 0, None)\n",
    "a2 = LpVariable(\"inventmentAmonth2\", 0, None)\n",
    "b2 = LpVariable(\"inventmentBmonth2\", 0, None)\n",
    "c2 = LpVariable(\"inventmentCmonth2\", 0, None)\n",
    "a3 = LpVariable(\"inventmentAmonth3\", 0, None)\n",
    "b3 = LpVariable(\"inventmentBmonth3\", 0, None)\n",
    "a4 = LpVariable(\"inventmentAmonth4\", 0, None)\n"
   ]
  },
  {
   "cell_type": "code",
   "execution_count": 17,
   "id": "f5960b9f",
   "metadata": {},
   "outputs": [],
   "source": [
    "# defines the problem\n",
    "prob3 = LpProblem(\"problem\", LpMaximize)"
   ]
  },
  {
   "cell_type": "code",
   "execution_count": 18,
   "id": "cfa2172e",
   "metadata": {},
   "outputs": [],
   "source": [
    " # define constraints\n",
    "prob3 += 400 + 400 >= 600 + a1 + b1 + c1 + d1 # year 1 in = out\n",
    "prob3 += a1*(1.001) + 800 >= 500 + a2 + b2 + c2\n",
    "prob3 += a2*(1.001) + b1*(1.005**2) + 300 >= 500 + a3 + b3\n",
    "prob3 += a3*(1.001) + b2*(1.005**2) + c1*(1.01**3) + 300 >= 250 + a4"
   ]
  },
  {
   "cell_type": "code",
   "execution_count": 19,
   "id": "06ddeb80",
   "metadata": {},
   "outputs": [],
   "source": [
    "# define objective function\n",
    "prob3 += a4*(1.001) + b3*(1.005**2) + c2*(1.01**3) + d1*(1.02**4)"
   ]
  },
  {
   "cell_type": "code",
   "execution_count": 22,
   "id": "34e8a170",
   "metadata": {},
   "outputs": [
    {
     "name": "stdout",
     "output_type": "stream",
     "text": [
      "Problem\n",
      "status=Optimal\n",
      "inventmentAmonth1 = 0.0\n",
      "inventmentAmonth2 = 199.8002\n",
      "inventmentAmonth3 = 0.0\n",
      "inventmentAmonth4 = 50.0\n",
      "inventmentBmonth1 = 0.0\n",
      "inventmentBmonth2 = 0.0\n",
      "inventmentBmonth3 = 0.0\n",
      "inventmentCmonth1 = 0.0\n",
      "inventmentCmonth2 = 100.1998\n",
      "inventmentDmonth1 = 200.0\n",
      "Objective = 369.7723861398\n",
      "\n"
     ]
    }
   ],
   "source": [
    "# solve the problem\n",
    "status3 = prob3.solve()\n",
    "print(f\"Problem\")\n",
    "print(f\"status={LpStatus[status3]}\")\n",
    "\n",
    "# print the results\n",
    "for variable in prob3.variables():\n",
    "    print(f\"{variable.name} = {variable.varValue}\")\n",
    "    \n",
    "print(f\"Objective = {value(prob3.objective)}\")\n",
    "print(f\"\")"
   ]
  },
  {
   "cell_type": "markdown",
   "id": "d29499f4",
   "metadata": {},
   "source": [
    "in month 1, all \\\\$200 remaining should be invested in (d)\n",
    "in month 2, approx \\\\$100 should be invested in (c), and \\\\$200 in (a)\n",
    "in month 3, no additional money is invested, as the \\\\$200 return from month 2 is used to pay bills\n",
    "in month 4, \\\\$50 should be invested in (a)\n",
    "this will result in approx \\\\$370 cash on hand in month 5\n",
    "\n",
    "----"
   ]
  },
  {
   "cell_type": "markdown",
   "id": "6cb0ec07",
   "metadata": {},
   "source": [
    "# Question 4\n",
    "\n",
    "Turkeyco produces two types of turkey cutlets for sale to fast-food restaurants.  Each type of cutlet consists of white meat and dark meat.  Cutlet 1 sells for \\\\$4/lb and must consist of at least 70\\% white meat.  Cutlet 2 sells for \\\\$3/lb and must consist of at least 60% white meat.  At most, 50 lb of cutlet 1 and 30 lb of cutlet 2 can be sold.  The two types of turkey used to manufacture the cutlets are purchased from the GobbleGobble Turkey Farm.  Each type 1 turkey costs \\\\$10 and yields 5 lb of white meat and 2 lb of dark meat.  Each type 2 turkey costs \\\\$8 and yields 3 lb of white meat and 3 lb of dark meat.  "
   ]
  },
  {
   "cell_type": "code",
   "execution_count": 23,
   "id": "d327da35",
   "metadata": {},
   "outputs": [],
   "source": [
    "# define variables\n",
    "\n",
    "c1 = LpVariable(\"cutlet1amount\", 0, 50) # At most, 50 lb of cutlet 1 can be sold\n",
    "c2 = LpVariable(\"cutlet2amount\", 0, 30) # At most 30 lb of cutlet 2 can be sold\n",
    "t1 = LpVariable(\"turkey1count\", 0, None,cat='Integer') \n",
    "t2 = LpVariable(\"turkey2count\", 0, None,cat='Integer') \n",
    "wm = LpVariable(\"lbsWhiteMeat\", 0, None) \n",
    "dm = LpVariable(\"lbsDarkMeat\", 0, None) \n",
    "\n"
   ]
  },
  {
   "cell_type": "code",
   "execution_count": 24,
   "id": "28c0c378",
   "metadata": {},
   "outputs": [],
   "source": [
    "# defines the problem\n",
    "prob4 = LpProblem(\"problem\", LpMaximize)"
   ]
  },
  {
   "cell_type": "code",
   "execution_count": 25,
   "id": "ce377350",
   "metadata": {},
   "outputs": [],
   "source": [
    "# define constraints - comments on end provide context\n",
    "prob4 += 5*t1 + 3*t2 == wm  #  type 1 turkey yields 5 lb of white meat; 2: 3 lb\n",
    "prob4 += 2*t1 + 3*t2 == dm  #  type 1 turkey yields 2 lb of dark meat; 2: 3 lb\n",
    "prob4 += .7*c1 + .6*c2 <= wm   # Cutlet 1 must consist of at least 70% white meat, 2- 60% white meat\n"
   ]
  },
  {
   "cell_type": "code",
   "execution_count": 26,
   "id": "25e53bbd",
   "metadata": {},
   "outputs": [],
   "source": [
    "# define objective function\n",
    "prob4 += 4*c1 + 3*c2 - t1*10 - t2*8  # Cutlet 1 sells for $4/lb, 2 sells for $3/lb; type 1 turkey costs $10, type 2 turkey costs $8 "
   ]
  },
  {
   "cell_type": "code",
   "execution_count": 27,
   "id": "e5b326be",
   "metadata": {},
   "outputs": [
    {
     "name": "stdout",
     "output_type": "stream",
     "text": [
      "Problem\n",
      "status=Optimal\n",
      "cutlet1amount = 50.0\n",
      "cutlet2amount = 30.0\n",
      "lbsDarkMeat = 23.0\n",
      "lbsWhiteMeat = 53.0\n",
      "turkey1count = 10.0\n",
      "turkey2count = 1.0\n",
      "Objective = 182.0\n",
      "\n"
     ]
    }
   ],
   "source": [
    "# solve the problem\n",
    "status4 = prob4.solve()\n",
    "print(f\"Problem\")\n",
    "print(f\"status={LpStatus[status4]}\")\n",
    "\n",
    "# print the results\n",
    "for variable in prob4.variables():\n",
    "    print(f\"{variable.name} = {variable.varValue}\")\n",
    "    \n",
    "print(f\"Objective = {value(prob4.objective)}\")\n",
    "print(f\"\")"
   ]
  },
  {
   "cell_type": "markdown",
   "id": "1a802fe3",
   "metadata": {},
   "source": [
    "#### ten type 1 turkeys and one type 2 turkeys should be used to produce 50lbs of cutlet 1 and 30lbs and cutlet 2, resulting in maximized profit of \\\\$182  \n",
    "----"
   ]
  },
  {
   "cell_type": "markdown",
   "id": "839553fb",
   "metadata": {},
   "source": [
    "# Question 5\n",
    "\n",
    "A company wants to plan production for the ensuing year to minimize the combined cost of production and inventory costs.  In each quarter of the year, demand is anticipated to be 130, 160, 250, and 150 units, respectively.  The plant can produce a maximum of 200 units each quarter.  The product can be manufactured at a cost of \\\\$15 per unit during the first quarter, however the manufacturing cost is expected to rise by \\\\$1 per quarter.  Excess production can be stored from one quarter to the next at a cost of \\\\$1.50 per unit, but the storage facility can hold a maximum of 60 units.  How should the production be scheduled so as to minimize the total costs?  "
   ]
  },
  {
   "cell_type": "code",
   "execution_count": 28,
   "id": "95a4e583",
   "metadata": {},
   "outputs": [],
   "source": [
    "# define variables\n",
    "\n",
    "p1 = LpVariable(\"q1produced\", 0, 200) # units produced q1\n",
    "p2 = LpVariable(\"q2produced\", 0, 200) # units produced q2\n",
    "p3 = LpVariable(\"q3produced\", 0, 200) # units produced q3\n",
    "p4 = LpVariable(\"q4produced\", 0, 200) # units produced q4\n",
    "s1 = LpVariable(\"q1stored\", 0, 60) # units stored q1\n",
    "s2 = LpVariable(\"q2stored\", 0, 60) # units stored q2\n",
    "s3 = LpVariable(\"q3stored\", 0, 60) # units stored q3\n",
    "s4 = LpVariable(\"q4stored\", 0, 60) # units stored q4\n"
   ]
  },
  {
   "cell_type": "code",
   "execution_count": 29,
   "id": "9d50f4ff",
   "metadata": {},
   "outputs": [],
   "source": [
    "# defines the problem\n",
    "prob5 = LpProblem(\"problem\", LpMinimize)"
   ]
  },
  {
   "cell_type": "code",
   "execution_count": 30,
   "id": "af7010ee",
   "metadata": {},
   "outputs": [],
   "source": [
    "# define constraints - comments on end provide context\n",
    "prob5 += p1 >= 130 + s1 \n",
    "prob5 += p2 + s1 >= 160 + s2\n",
    "prob5 += p3 + s2 >= 250 + s3\n",
    "prob5 += p4 + s3 >= 150 + s4\n"
   ]
  },
  {
   "cell_type": "code",
   "execution_count": 31,
   "id": "9e127e19",
   "metadata": {},
   "outputs": [],
   "source": [
    "# define objective function\n",
    "prob5 += p1*15 + p2*16 + p3*17 + p4*18 + (s1 + s2 + s3 + s4)*1.5"
   ]
  },
  {
   "cell_type": "code",
   "execution_count": 32,
   "id": "baf4df7b",
   "metadata": {},
   "outputs": [
    {
     "name": "stdout",
     "output_type": "stream",
     "text": [
      "Problem\n",
      "status=Optimal\n",
      "q1produced = 140.0\n",
      "q1stored = 10.0\n",
      "q2produced = 200.0\n",
      "q2stored = 50.0\n",
      "q3produced = 200.0\n",
      "q3stored = 0.0\n",
      "q4produced = 150.0\n",
      "q4stored = 0.0\n",
      "Objective = 11490.0\n",
      "\n"
     ]
    }
   ],
   "source": [
    "# solve the problem\n",
    "status5 = prob5.solve()\n",
    "print(f\"Problem\")\n",
    "print(f\"status={LpStatus[status5]}\")\n",
    "\n",
    "# print the results\n",
    "for variable in prob5.variables():\n",
    "    print(f\"{variable.name} = {variable.varValue}\")\n",
    "    \n",
    "print(f\"Objective = {value(prob5.objective)}\")\n",
    "print(f\"\")"
   ]
  },
  {
   "cell_type": "markdown",
   "id": "d3d7d0d5",
   "metadata": {},
   "source": [
    "In quarter 1, 140 units should be produced with 10 stored\n",
    "in quarter 2, 200 units should be produced with 50 stored\n",
    "in quarter 3, 200 units should be produced with 0 stored (10 produced in q1 & 40 produced in q2 were saved to supply over capacity)\n",
    "in quarter 4, the demand should be met at 150 units\n",
    "\n",
    "this will result in a minimized cost of \\\\$11,490"
   ]
  }
 ],
 "metadata": {
  "kernelspec": {
   "display_name": "Python [conda env:decan] *",
   "language": "python",
   "name": "conda-env-decan-py"
  },
  "language_info": {
   "codemirror_mode": {
    "name": "ipython",
    "version": 3
   },
   "file_extension": ".py",
   "mimetype": "text/x-python",
   "name": "python",
   "nbconvert_exporter": "python",
   "pygments_lexer": "ipython3",
   "version": "3.8.11"
  }
 },
 "nbformat": 4,
 "nbformat_minor": 5
}
